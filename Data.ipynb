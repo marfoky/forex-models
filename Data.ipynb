{
 "cells": [
  {
   "cell_type": "code",
   "execution_count": 1,
   "id": "3f6c1599",
   "metadata": {
    "ExecuteTime": {
     "end_time": "2023-05-07T12:11:09.646476400Z",
     "start_time": "2023-05-07T12:11:06.692702300Z"
    }
   },
   "outputs": [],
   "source": [
    "import numpy as np\n",
    "import pandas as pd\n",
    "import matplotlib.pyplot as plt\n",
    "from matplotlib.pyplot import figure\n",
    "import MetaTrader5 as mt5\n",
    "import pandas as pd\n",
    "from datetime import datetime\n",
    "\n",
    "import pandas as pd\n",
    "import numpy as np\n",
    "from ta.volatility import BollingerBands\n",
    "from ta.trend import MACD\n",
    "from ta.momentum import RSIIndicator"
   ]
  },
  {
   "cell_type": "code",
   "execution_count": 2,
   "id": "8e3b35ed",
   "metadata": {},
   "outputs": [],
   "source": [
    "# df.to_csv('btcusd.csv', index=False)"
   ]
  },
  {
   "cell_type": "code",
   "execution_count": 5,
   "id": "a1f20395",
   "metadata": {},
   "outputs": [],
   "source": [
    "def apply_indicators(df):\n",
    "    \n",
    "    # Calculate the moving averages\n",
    "    df['MA_daily'] = df['close'].rolling(window=50).mean()\n",
    "    df['MA_weekly'] = df['close'].rolling(window=200).mean()\n",
    "\n",
    "    # Calculate the Relative Strength Index (RSI)\n",
    "    rsi_indicator = RSIIndicator(df['close'])\n",
    "    df['RSI'] = rsi_indicator.rsi()\n",
    "\n",
    "    # Calculate Bollinger Bands\n",
    "    bollinger = BollingerBands(df['close'])\n",
    "    df['BB_High'] = bollinger.bollinger_hband()\n",
    "    df['BB_Low'] = bollinger.bollinger_lband()\n",
    "\n",
    "    # Calculate MACD\n",
    "    macd_indicator = MACD(df['close'])\n",
    "    df['MACD'] = macd_indicator.macd()\n",
    "\n",
    "    # Remove nas\n",
    "    data = df.dropna()\n",
    "    \n",
    "    return data"
   ]
  },
  {
   "cell_type": "markdown",
   "id": "db45167a",
   "metadata": {},
   "source": [
    "# Getting data from the metatrader server"
   ]
  },
  {
   "cell_type": "code",
   "execution_count": 2,
   "id": "8b052294",
   "metadata": {},
   "outputs": [],
   "source": [
    "def get_data(symbol):\n",
    "\n",
    "    # Getting data on the 15 minutes timeframe\n",
    "    if not mt5.initialize():\n",
    "        print(\"initialize() failed, error code =\",mt5.last_error())\n",
    "        quit()\n",
    "\n",
    "    # set the symbol and timefram\n",
    "    timeframe = mt5.TIMEFRAME_M15   # for one-minute bars\n",
    "\n",
    "    #dates for retrieving the history\n",
    "    date_from = datetime(2016, 12, 15)\n",
    "    today = datetime.today()\n",
    "\n",
    "    # get the history\n",
    "    history = mt5.copy_rates_range(symbol, timeframe, date_from, today)\n",
    "\n",
    "    if history is not None and len(history) > 0:\n",
    "        # create DataFrame out of the obtained data\n",
    "        rates_frame = pd.DataFrame(history).drop(['spread','real_volume'], axis =1)\n",
    "\n",
    "        # convert time in seconds into the datetime format\n",
    "        rates_frame['time'] = pd.to_datetime(rates_frame['time'], unit='s')\n",
    "    else:\n",
    "        print(\"No data for the requested period\")\n",
    "\n",
    "    # terminate the connection to the MetaTrader 5 terminal\n",
    "    mt5.shutdown()\n",
    "    \n",
    "    #adding indicators to retrieved data\n",
    "    data = apply_indicators(rates_frame)\n",
    "    \n",
    "    \n",
    "    return data"
   ]
  },
  {
   "cell_type": "code",
   "execution_count": null,
   "id": "32610636",
   "metadata": {},
   "outputs": [],
   "source": []
  }
 ],
 "metadata": {
  "kernelspec": {
   "display_name": "Deep learning (Python 3.10.9)",
   "language": "python",
   "name": "pytorch"
  },
  "language_info": {
   "codemirror_mode": {
    "name": "ipython",
    "version": 3
   },
   "file_extension": ".py",
   "mimetype": "text/x-python",
   "name": "python",
   "nbconvert_exporter": "python",
   "pygments_lexer": "ipython3",
   "version": "3.10.9"
  }
 },
 "nbformat": 4,
 "nbformat_minor": 5
}
