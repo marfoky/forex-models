{
 "cells": [
  {
   "cell_type": "code",
   "execution_count": 4,
   "id": "fa4d1dfb",
   "metadata": {},
   "outputs": [],
   "source": [
    "import torch\n",
    "import torch.nn as nn\n",
    "import torch.optim as optim\n",
    "from torch.utils.data import Dataset, DataLoader\n",
    "import numpy as np\n",
    "from sklearn.preprocessing import MinMaxScaler\n",
    "from sklearn.model_selection import train_test_split"
   ]
  },
  {
   "cell_type": "code",
   "execution_count": 3,
   "id": "06bb3137",
   "metadata": {},
   "outputs": [
    {
     "ename": "NameError",
     "evalue": "name 'pd' is not defined",
     "output_type": "error",
     "traceback": [
      "\u001b[1;31m---------------------------------------------------------------------------\u001b[0m",
      "\u001b[1;31mNameError\u001b[0m                                 Traceback (most recent call last)",
      "Cell \u001b[1;32mIn[3], line 1\u001b[0m\n\u001b[1;32m----> 1\u001b[0m data \u001b[38;5;241m=\u001b[39m\u001b[43mpd\u001b[49m\u001b[38;5;241m.\u001b[39mread_csv(\u001b[38;5;124m'\u001b[39m\u001b[38;5;124mXAUUSD.csv\u001b[39m\u001b[38;5;124m'\u001b[39m)\n\u001b[0;32m      3\u001b[0m \u001b[38;5;66;03m# Splitting the data into training and testing sets\u001b[39;00m\n\u001b[0;32m      4\u001b[0m train_data, test_data \u001b[38;5;241m=\u001b[39m train_test_split(data, test_size\u001b[38;5;241m=\u001b[39m\u001b[38;5;241m0.2\u001b[39m)\n",
      "\u001b[1;31mNameError\u001b[0m: name 'pd' is not defined"
     ]
    }
   ],
   "source": [
    "data =pd.read_csv('XAUUSD.csv')\n",
    "\n",
    "# Splitting the data into training and testing sets\n",
    "train_data, test_data = train_test_split(data, test_size=0.2)"
   ]
  },
  {
   "cell_type": "code",
   "execution_count": null,
   "id": "4b3cdf0f",
   "metadata": {},
   "outputs": [],
   "source": [
    "\n",
    "# Normalize the input features using Min-Max scaler\n",
    "scaler = MinMaxScaler()\n",
    "train_data[features] = scaler.fit_transform(train_data[features])\n",
    "test_data[features] = scaler.transform(test_data[features])\n",
    "\n",
    "# Convert breakout direction labels to numerical values if necessary\n",
    "train_data['BreakoutDirection'] = train_data['BreakoutDirection'].map({'no breakout': 0, 'bullish breakout': 1, 'bearish breakout': -1})\n",
    "test_data['BreakoutDirection'] = test_data['BreakoutDirection'].map({'no breakout': 0, 'bullish breakout': 1, 'bearish breakout': -1})\n"
   ]
  },
  {
   "cell_type": "code",
   "execution_count": null,
   "id": "3dd08d76",
   "metadata": {},
   "outputs": [],
   "source": [
    "\n",
    "# Convert the data into sequences of fixed length\n",
    "sequence_length = 10\n",
    "\n",
    "def create_sequences(data):\n",
    "    X = []\n",
    "    y = []\n",
    "    for i in range(len(data) - sequence_length):\n",
    "        X.append(data[features].values[i:i+sequence_length])\n",
    "        y.append(data[target].values[i+sequence_length])\n",
    "    return np.array(X), np.array(y)\n",
    "\n",
    "X_train, y_train = create_sequences(train_data)\n",
    "X_test, y_test = create_sequences(test_data)\n",
    "\n",
    "# Convert NumPy arrays to PyTorch tensors\n",
    "X_train = torch.from_numpy(X_train).float()\n",
    "y_train = torch.from_numpy(y_train).long()  # use long tensor for classification\n",
    "X_test = torch.from_numpy(X_test).float()\n",
    "y_test = torch.from_numpy(y_test).long()\n"
   ]
  },
  {
   "cell_type": "code",
   "execution_count": null,
   "id": "da36d937",
   "metadata": {},
   "outputs": [],
   "source": [
    "\n",
    "# Step 3: Build the LSTM Model\n",
    "class LSTMModel(nn.Module):\n",
    "    def __init__(self, input_size, hidden_size, output_size):\n",
    "        super(LSTMModel, self).__init__()\n",
    "        self.hidden_size = hidden_size\n",
    "        self.lstm = nn.LSTM(input_size, hidden_size, batch_first=True)\n",
    "        self.fc = nn.Linear(hidden_size, output_size)\n",
    "\n",
    "    def forward(self, x):\n",
    "        out, _ = self.lstm(x)\n",
    "        out = self.fc(out[:, -1, :])\n",
    "        return out\n",
    "\n",
    "input_size = len(features)\n",
    "hidden_size = 64\n",
    "output_size = 3  # 3 classes: no breakout, bullish breakout, bearish breakout\n",
    "\n",
    "model = LSTMModel(input_size, hidden_size, output_size)\n"
   ]
  },
  {
   "cell_type": "code",
   "execution_count": null,
   "id": "77cc14eb",
   "metadata": {},
   "outputs": [],
   "source": [
    "\n",
    "# Step 4: Training the Model\n",
    "\n",
    "# Define hyperparameters\n",
    "learning_rate = 0.001\n",
    "batch_size = 32\n",
    "num_epochs = 50\n",
    "\n",
    "# Define loss function and optimizer\n",
    "criterion = nn.CrossEntropyLoss()\n",
    "optimizer = optim.Adam(model.parameters(), lr=learning_rate)\n",
    "\n",
    "# Create a custom Dataset class\n",
    "class CustomDataset(Dataset):\n",
    "    def __init__(self, X, y):\n",
    "        self.X = X\n",
    "        self.y = y\n",
    "\n",
    "    def __len__(self):\n",
    "        return len(self.X)\n",
    "\n",
    "    def __getitem__(self, index):\n",
    "        return self.X[index], self.y[index]\n",
    "\n",
    "# Create DataLoader objects for training and testing\n",
    "train_dataset = CustomDataset(X_train, y_train)\n",
    "test_dataset = CustomDataset(X_test, y_test)\n",
    "train_loader = DataLoader(train_dataset, batch_size=batch_size, shuffle=True)\n",
    "test_loader = DataLoader(test_dataset, batch_size=batch_size, shuffle=False)\n"
   ]
  },
  {
   "cell_type": "code",
   "execution_count": null,
   "id": "eeb3637e",
   "metadata": {},
   "outputs": [],
   "source": [
    "\n",
    "# Training loop\n",
    "for epoch in range(num_epochs):\n",
    "    for inputs, labels in train_loader:\n",
    "        optimizer.zero_grad()\n",
    "\n",
    "        outputs = model(inputs)\n",
    "        loss = criterion(outputs, labels)\n",
    "\n",
    "        loss.backward()\n",
    "        optimizer.step()\n",
    "\n",
    "    # Print the loss after every epoch\n",
    "    print(f\"Epoch {epoch+1}/{num_epochs}, Loss: {loss.item():.6f}\")\n",
    "\n",
    "# Step 5: Evaluation and Prediction\n",
    "\n",
    "# Evaluate the model on the testing set\n",
    "model.eval()\n",
    "with torch.no_grad():\n",
    "    test_outputs = model(X_test)\n",
    "    _, predicted_labels = torch.max(test_outputs, 1)  # get predicted labels\n",
    "\n",
    "# Calculate accuracy\n",
    "accuracy = (predicted_labels == y_test).sum().item() / len(y_test)\n",
    "print(f\"Accuracy: {accuracy * 100:.2f}%\")\n",
    "\n",
    "# Make predictions on unseen data\n",
    "unseen_data = ...  # unseen data to predict on\n",
    "unseen_data[features] = scaler.transform(unseen_data[features])\n",
    "X_unseen, _ = create_sequences(unseen_data)\n",
    "X_unseen = torch.from_numpy(X_unseen).float()\n",
    "\n",
    "model.eval()\n",
    "with torch.no_grad():\n",
    "    unseen_outputs = model(X_unseen)\n",
    "    _, unseen_predicted_labels = torch.max(unseen_outputs, 1)  # get predicted labels\n",
    "\n",
    "# inverse_transform the predicted labels if necessary\n",
    "predicted_breakout_directions = unseen_predicted_labels.numpy()\n"
   ]
  }
 ],
 "metadata": {
  "kernelspec": {
   "display_name": "Deep learning (Python 3.10.9)",
   "language": "python",
   "name": "pytorch"
  },
  "language_info": {
   "codemirror_mode": {
    "name": "ipython",
    "version": 3
   },
   "file_extension": ".py",
   "mimetype": "text/x-python",
   "name": "python",
   "nbconvert_exporter": "python",
   "pygments_lexer": "ipython3",
   "version": "3.10.9"
  }
 },
 "nbformat": 4,
 "nbformat_minor": 5
}
